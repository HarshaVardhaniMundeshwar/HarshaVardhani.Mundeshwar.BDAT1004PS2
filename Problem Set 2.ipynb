{
 "cells": [
  {
   "cell_type": "markdown",
   "id": "bc81208c-04e6-4380-9284-2c10123bad2a",
   "metadata": {},
   "source": [
    "Question 1\n"
   ]
  },
  {
   "cell_type": "markdown",
   "id": "ef90892d-1ebd-4e3e-88aa-faa234b9f9bb",
   "metadata": {},
   "source": [
    "Consider the following Python module:\n",
    "a = 0\n",
    "def b():\n",
    "global a\n",
    "a = c(a)\n",
    "def c(a):\n",
    "return a + 2\n",
    "After importing the module into the interpreter, you execute:\n",
    ">>> b()\n",
    ">>> b()\n",
    ">>> b()\n",
    ">>> a\n",
    "?\n",
    "What value is displayed when the last expression (a) is evaluated? Explain your answer by indicating what happens in every executed statement."
   ]
  },
  {
   "cell_type": "code",
   "execution_count": 36,
   "id": "7fba0f5d-46aa-462e-8949-7c9d2e60c3bc",
   "metadata": {},
   "outputs": [
    {
     "data": {
      "text/plain": [
       "6"
      ]
     },
     "execution_count": 36,
     "metadata": {},
     "output_type": "execute_result"
    }
   ],
   "source": [
    "# Initializing the variable 'a'\n",
    "a = 0\n",
    "\n",
    "# Defining the function 'b' that modifies the global variable 'a'\n",
    "def b():\n",
    "    global a\n",
    "    a = c(a)\n",
    "\n",
    "# Defining the function 'c' that increments its argument by 2\n",
    "def c(a):\n",
    "    return a + 2\n",
    "\n",
    "# Calling function 'b' three times\n",
    "b()  # First call, 'a' becomes 2\n",
    "b()  # Second call, 'a' becomes 4\n",
    "b()  # Third call, 'a' becomes 6\n",
    "\n",
    "# Displaying the value of 'a'\n",
    "a"
   ]
  },
  {
   "cell_type": "markdown",
   "id": "7678c014-3107-47ab-bf86-8d65014b0f93",
   "metadata": {},
   "source": [
    "Explanation"
   ]
  },
  {
   "cell_type": "markdown",
   "id": "6ab88782-19b0-4168-a5aa-fb8b7713c06c",
   "metadata": {},
   "source": [
    "Initialization: a is set to 0.\n",
    "\n",
    "Function definitions: b is defined to modify a using the global keyword, so it can access and update the global variable a. Each time b is called, it will set a = c(a). c is defined to take an argument and return that argument plus 2.\n",
    "\n",
    "Function calls: The first call to b() sets a = c(a), which is c(0). The function c(0) returns 2, so a becomes 2. The second call to b() sets a = c(a), which is c(2). The function c(2) returns 4, so a becomes 4. The third call to b() sets a = c(a), which is c(4). The function c(4) returns 6, so a becomes 6.\n",
    "\n",
    "Final output: The value of a after three calls to b() is 6."
   ]
  },
  {
   "cell_type": "markdown",
   "id": "553d297b-d735-45e8-a8a1-18cdad19aa53",
   "metadata": {},
   "source": [
    "Question 2"
   ]
  },
  {
   "cell_type": "markdown",
   "id": "39b57eb4-88d5-4891-9286-461d9727c568",
   "metadata": {},
   "source": [
    "Function fileLength(), given to you, takes the name of a file as input and returns\n",
    "the length of the file:\n",
    ">>> fileLength('midterm.py')\n",
    "284\n",
    ">>> fileLength('idterm.py')\n",
    "Traceback (most recent call last):\n",
    "File \"<pyshell#34>\", line 1, in <module>\n",
    "fileLength('idterm.py')\n",
    "File \"/Users/me/midterm.py\", line 3, in fileLength\n",
    "infile = open(filename)\n",
    "FileNotFoundError: [Errno 2] No such file or directory:\n",
    "'idterm.py'\n",
    "As shown above, if the file cannot be found by the interpreter or if it cannot be read\n",
    "as a text file, an exception will be raised. Modify function fileLength() so that a\n",
    "friendly message is printed instead:\n",
    ">>> fileLength('midterm.py')\n",
    "358\n",
    ">>> fileLength('idterm.py')\n",
    "File idterm.py not found."
   ]
  },
  {
   "cell_type": "code",
   "execution_count": 32,
   "id": "62457f36-f9ea-4faf-bcf7-f59a0ccc5db1",
   "metadata": {},
   "outputs": [
    {
     "name": "stdout",
     "output_type": "stream",
     "text": [
      "File midterm.py not found.\n",
      "None\n",
      "File idterm.py not found.\n",
      "None\n"
     ]
    }
   ],
   "source": [
    "def fileLength(filename):\n",
    "    try:\n",
    "        with open(filename, 'r') as infile:\n",
    "            contents = infile.read()  # Read the content of the file\n",
    "            return len(contents)  # Return the length of the content\n",
    "    except FileNotFoundError:\n",
    "        print(f\"File {filename} not found.\")\n",
    "    except Exception as e:\n",
    "        print(f\"An error occurred: {e}\")\n",
    "\n",
    "# Example usage\n",
    "print(fileLength('midterm.py'))  # Replace with an actual file name to test\n",
    "print(fileLength('idterm.py'))    # This will trigger the friendly message\n"
   ]
  },
  {
   "cell_type": "markdown",
   "id": "d2ded640-3ae0-47e4-9154-515d5102431a",
   "metadata": {},
   "source": [
    "Question 3"
   ]
  },
  {
   "cell_type": "markdown",
   "id": "6d08d494-3d75-41e2-bad6-f0f3d9253f05",
   "metadata": {},
   "source": [
    "Write a class named Marsupial that can be used as shown below:\n",
    ">>> m = Marsupial()\n",
    ">>> m.put_in_pouch('doll')\n",
    ">>> m.put_in_pouch('firetruck')\n",
    ">>> m.put_in_pouch('kitten')\n",
    ">>> m.pouch_contents()\n",
    "['doll', 'firetruck', 'kitten']\n",
    "Now write a class named Kangaroo as a subclass of Marsupial that inherits all the\n",
    "attributes of Marsupial and also:\n",
    "a. extends the Marsupial __init__ constructor to take, as input, the\n",
    "coordinates x and y of the Kangaroo object,\n",
    "b. supports method jump that takes number values dx and dy as input and\n",
    "movesthe kangaroo by dx units along the x-axis and by dy units along the yaxis, and\n",
    "c. overloads the __str__ operator so it behaves as shown below.\n",
    ">>> k = Kangaroo(0,0)\n",
    ">>> print(k)\n",
    "I am a Kangaroo located at coordinates (0,0)\n",
    ">>> k.put_in_pouch('doll')\n",
    ">>> k.put_in_pouch('firetruck')\n",
    ">>> k.put_in_pouch('kitten')\n",
    ">>> k.pouch_contents()\n",
    "['doll', 'firetruck', 'kitten']\n",
    ">>> k.jump(1,0)\n",
    ">>> k.jump(1,0)\n",
    ">>> k.jump(1,0)\n",
    ">>> print(k)\n",
    "I am a Kangaroo located at coordinates (3,0)"
   ]
  },
  {
   "cell_type": "code",
   "execution_count": 18,
   "id": "d93e8e64-10d2-440c-a298-7725a1a13906",
   "metadata": {},
   "outputs": [
    {
     "name": "stdout",
     "output_type": "stream",
     "text": [
      "['doll', 'firetruck', 'kitten']\n",
      "I am a Kangaroo located at coordinates (0,0)\n",
      "['doll', 'firetruck', 'kitten']\n",
      "I am a Kangaroo located at coordinates (3,0)\n"
     ]
    }
   ],
   "source": [
    "# Define the Marsupial class\n",
    "class Marsupial:\n",
    "    def __init__(self):\n",
    "        self.pouch = []  # Initialize an empty list to hold items\n",
    "\n",
    "    def put_in_pouch(self, item):\n",
    "        self.pouch.append(item)  # Add the item to the pouch list\n",
    "\n",
    "    def pouch_contents(self):\n",
    "        return self.pouch  # Return the list of items in the pouch\n",
    "\n",
    "# Define the Kangaroo class, which inherits from Marsupial\n",
    "class Kangaroo(Marsupial):\n",
    "    def __init__(self, x, y):\n",
    "        super().__init__()  # Initialize the Marsupial attributes\n",
    "        self.x = x  # Initialize x coordinate\n",
    "        self.y = y  # Initialize y coordinate\n",
    "\n",
    "    def jump(self, dx, dy):\n",
    "        self.x += dx  # Move x by dx\n",
    "        self.y += dy  # Move y by dy\n",
    "\n",
    "    def __str__(self):\n",
    "        return f\"I am a Kangaroo located at coordinates ({self.x},{self.y})\"\n",
    "\n",
    "# Testing the classes\n",
    "# Marsupial class\n",
    "m = Marsupial()\n",
    "m.put_in_pouch('doll')\n",
    "m.put_in_pouch('firetruck')\n",
    "m.put_in_pouch('kitten')\n",
    "print(m.pouch_contents())  # Expected output: ['doll', 'firetruck', 'kitten']\n",
    "\n",
    "# Kangaroo class\n",
    "k = Kangaroo(0, 0)\n",
    "print(k)  # Expected output: I am a Kangaroo located at coordinates (0,0)\n",
    "k.put_in_pouch('doll')\n",
    "k.put_in_pouch('firetruck')\n",
    "k.put_in_pouch('kitten')\n",
    "print(k.pouch_contents())  # Expected output: ['doll', 'firetruck', 'kitten']\n",
    "k.jump(1, 0)\n",
    "k.jump(1, 0)\n",
    "k.jump(1, 0)\n",
    "print(k)  # Expected output: I am a Kangaroo located at coordinates (3,0)"
   ]
  },
  {
   "cell_type": "markdown",
   "id": "ecbbf0ef-d5d9-4181-b680-a683fee9d1f0",
   "metadata": {},
   "source": [
    "Question 4"
   ]
  },
  {
   "cell_type": "markdown",
   "id": "fbee3253-5ce0-4ac3-b8a8-c4a3596cf83c",
   "metadata": {},
   "source": [
    "Write function collatz() that takes a positive integer x as input and prints the\n",
    "Collatz sequence starting at x. A Collatz sequence is obtained by repeatedly applying\n",
    "this rule to the previous number x in the sequence:\n",
    "x = {\n",
    "𝑥/2 𝑖𝑓 𝑥 𝑖𝑠 𝑒𝑣𝑒𝑛3𝑥\n",
    "+1 𝑖𝑓 𝑥 𝑖𝑠 𝑜𝑑𝑑\n",
    "Your function should stop when the sequence gets to number 1. Your\n",
    "implementation must be recursive, without any loops.\n",
    ">>> collatz(1)\n",
    "1\n",
    ">>> collatz(10)\n",
    "10\n",
    "5\n",
    "16\n",
    "8\n",
    "4\n",
    "2\n",
    "1"
   ]
  },
  {
   "cell_type": "code",
   "execution_count": 13,
   "id": "d67e3505-3bc8-466f-875c-6bd9689d3192",
   "metadata": {},
   "outputs": [
    {
     "name": "stdout",
     "output_type": "stream",
     "text": [
      "1\n",
      "\n",
      "10\n",
      "5\n",
      "16\n",
      "8\n",
      "4\n",
      "2\n",
      "1\n"
     ]
    }
   ],
   "source": [
    "def collatz(x):\n",
    "    print(x)\n",
    "    # Base case: stop when x reaches 1\n",
    "    if x == 1:\n",
    "        return\n",
    "    # Recursive case: apply Collatz rule\n",
    "    elif x % 2 == 0:\n",
    "        collatz(x // 2)  # x is even, so divide by 2\n",
    "    else:\n",
    "        collatz(3 * x + 1)  # x is odd, so apply 3x + 1\n",
    "\n",
    "# Testing the function\n",
    "collatz(1)  # Expected output: 1\n",
    "print()     # Line break for readability\n",
    "collatz(10) # Expected output: 10, 5, 16, 8, 4, 2, 1"
   ]
  },
  {
   "cell_type": "markdown",
   "id": "51322339-52ac-41ea-bd05-5c4fd08bd725",
   "metadata": {},
   "source": [
    "Question 5"
   ]
  },
  {
   "cell_type": "markdown",
   "id": "fe043110-1c48-40b2-b850-565b8298e0ee",
   "metadata": {},
   "source": [
    "Write a recursive method binary() that takes a non-negative\n",
    "integer n and prints the binary representation of integer n.\n",
    ">>> binary(0)\n",
    "0\n",
    ">>> binary(1)\n",
    "1\n",
    ">>> binary(3)\n",
    "11\n",
    ">>> binary(9)\n",
    "1001\n"
   ]
  },
  {
   "cell_type": "code",
   "execution_count": 10,
   "id": "9f2182a2-f532-48cb-a311-074c64c77fc8",
   "metadata": {},
   "outputs": [
    {
     "name": "stdout",
     "output_type": "stream",
     "text": [
      "0\n",
      "1\n",
      "11\n",
      "1001\n"
     ]
    }
   ],
   "source": [
    "def binary(n):\n",
    "    # Base case: if n is 0, print 0 and return\n",
    "    if n == 0:\n",
    "        print(0, end='')\n",
    "    # Base case for non-zero n: if n is 1, print 1 and return\n",
    "    elif n == 1:\n",
    "        print(1, end='')\n",
    "    else:\n",
    "        # Recursive case: divide n by 2 and print remainder\n",
    "        binary(n // 2)\n",
    "        print(n % 2, end='')\n",
    "\n",
    "# Testing the function\n",
    "binary(0)   # Expected output: 0\n",
    "print()     # Line break for readability\n",
    "binary(1)   # Expected output: 1\n",
    "print()\n",
    "binary(3)   # Expected output: 11\n",
    "print()\n",
    "binary(9)   # Expected output: 1001\n",
    "print()\n"
   ]
  },
  {
   "cell_type": "markdown",
   "id": "3a0335ef-7096-4539-8e9c-0d815dea41c2",
   "metadata": {},
   "source": [
    "Question 6\n"
   ]
  },
  {
   "cell_type": "markdown",
   "id": "352b16f2-5c3f-4f9d-9fb2-ea35ecec17d7",
   "metadata": {},
   "source": [
    "Implement a class named HeadingParser that can be used to parse an HTML document, and retrieve and print all the headings in the document. You should implement your class as a subclass of HTMLParser, defined in Standard Library module html.parser. When fed a string containing HTML code, your class should print the headings, one per line and in the order in which they appear in the document.Each heading should be indented asfollows: an h1 heading should have indentation 0, and h2 heading should have indentation 1, etc. Test your implementation using w3c.html.\n",
    "\n",
    "infile = open('w3c.html') content = infile.read() infile.close() hp = HeadingParser() hp.feed(content) W3C Mission Principles"
   ]
  },
  {
   "cell_type": "code",
   "execution_count": 6,
   "id": "ec2a6fc2-66dc-4a86-b153-9edec13bd8f3",
   "metadata": {},
   "outputs": [
    {
     "name": "stdout",
     "output_type": "stream",
     "text": [
      "W3C Mission\n",
      " Principles\n"
     ]
    }
   ],
   "source": [
    "from html.parser import HTMLParser\n",
    "\n",
    "class HeadingParser(HTMLParser):\n",
    "    def __init__(self):\n",
    "        super().__init__()\n",
    "        self.heading_level = 0  # Initialize the heading level\n",
    "\n",
    "    def handle_starttag(self, tag, attrs):\n",
    "        # Check if the tag is a heading tag (h1, h2, h3, etc.)\n",
    "        if tag.startswith('h') and tag[1].isdigit():\n",
    "            self.heading_level = int(tag[1])  # Set heading level (h1 -> 1, h2 -> 2, etc.)\n",
    "\n",
    "    def handle_endtag(self, tag):\n",
    "        # Reset heading level after the end tag\n",
    "        if tag.startswith('h') and tag[1].isdigit():\n",
    "            self.heading_level = 0\n",
    "\n",
    "    def handle_data(self, data):\n",
    "        # Print heading data with the appropriate indentation\n",
    "        if self.heading_level > 0:\n",
    "            print(' ' * (self.heading_level - 1) + data.strip())\n",
    "\n",
    "# Sample HTML content to test the HeadingParser class\n",
    "content = \"\"\"\n",
    "<html>\n",
    "<head><title>Test Document</title></head>\n",
    "<body>\n",
    "<h1>W3C Mission</h1>\n",
    "<p>This is a paragraph.</p>\n",
    "<h2>Principles</h2>\n",
    "<p>Another paragraph here.</p>\n",
    "</body>\n",
    "</html>\n",
    "\"\"\"\n",
    "\n",
    "# Initialize and feed the parser with the HTML content\n",
    "hp = HeadingParser()\n",
    "hp.feed(content)\n"
   ]
  },
  {
   "cell_type": "markdown",
   "id": "c059b878-9989-4ff9-9d0c-f7676314ff5c",
   "metadata": {},
   "source": [
    "Question 7"
   ]
  },
  {
   "cell_type": "markdown",
   "id": "aa02272b-cad8-4b04-b1c4-6d227080495d",
   "metadata": {},
   "source": [
    "Implement recursive function webdir() that takes as input: a URL (as a string) and\n",
    "non-negative integers depth and indent. Your function should visit every web\n",
    "page reachable from the starting URL web page in depth clicks or less, and print\n",
    "each web page's URL. As shown below, indentation, specified by indent, should\n",
    "be used to indicate the depth of a URL.\n",
    ">>>\n",
    "webdir('http://reed.cs.depaul.edu/lperkovic/csc242/test1.html'\n",
    ", 2, 0)\n",
    "http://reed.cs.depaul.edu/lperkovic/csc242/test1.html\n",
    "http://reed.cs.depaul.edu/lperkovic/csc242/test2.html\n",
    "http://reed.cs.depaul.edu/lperkovic/csc242/test4.html\n",
    "http://reed.cs.depaul.edu/lperkovic/csc242/test3.html\n",
    "http://reed.cs.depaul.edu/lperkovic/csc242/test4.html"
   ]
  },
  {
   "cell_type": "code",
   "execution_count": 17,
   "id": "bc1638f8-a502-45d2-b238-ca80d99cfe5b",
   "metadata": {},
   "outputs": [
    {
     "name": "stdout",
     "output_type": "stream",
     "text": [
      "http://reed.cs.depaul.edu/lperkovic/csc242/test1.html\n"
     ]
    }
   ],
   "source": [
    "import requests\n",
    "from bs4 import BeautifulSoup\n",
    "import time\n",
    "\n",
    "def webdir(url, depth, indent):\n",
    "    # Base case: if depth is 0, stop recursion\n",
    "    if depth < 0:\n",
    "        return\n",
    "    \n",
    "    # Print the URL with the specified indentation\n",
    "    print(' ' * indent + url)\n",
    "    \n",
    "    # Attempt to retrieve and parse the webpage content\n",
    "    try:\n",
    "        response = requests.get(url)\n",
    "        content = response.text\n",
    "        soup = BeautifulSoup(content, 'html.parser')\n",
    "        \n",
    "        # Find all hyperlinks on the page\n",
    "        links = soup.find_all('a', href=True)\n",
    "        \n",
    "        # Recursively visit each link up to the specified depth\n",
    "        for link in links:\n",
    "            href = link['href']\n",
    "            # Convert relative URLs to absolute URLs\n",
    "            if href.startswith('http'):\n",
    "                next_url = href\n",
    "            else:\n",
    "                next_url = requests.compat.urljoin(url, href)\n",
    "            \n",
    "            # Recursive call with decreased depth and increased indentation\n",
    "            webdir(next_url, depth - 1, indent + 2)\n",
    "            \n",
    "            # Adding a short delay to avoid overwhelming the server\n",
    "            time.sleep(0.1)\n",
    "    except Exception as e:\n",
    "        print(' ' * indent + f\"Error accessing {url}: {e}\")\n",
    "\n",
    "# Example usage\n",
    "webdir('http://reed.cs.depaul.edu/lperkovic/csc242/test1.html', 2, 0)\n"
   ]
  },
  {
   "cell_type": "markdown",
   "id": "7e1a63f4-aa6d-4199-b30f-c5a2ade7c01c",
   "metadata": {},
   "source": [
    "Question 8"
   ]
  },
  {
   "cell_type": "markdown",
   "id": "bb2dd1c7-106f-4a51-a800-1c5a0d4eb413",
   "metadata": {},
   "source": [
    "Write SQL queries on the below database table that return:\n",
    "a) All the temperature data.\n",
    "b) All the cities, but without repetition.\n",
    "c) All the records for India.\n",
    "d) All the Fall records.\n",
    "e) The city, country, and season for which the average rainfall is between 200\n",
    "and 400 millimeters.\n",
    "f) The city and country for which the average Fall temperature is above 20\n",
    "degrees, in increasing temperature order.\n",
    "g) The total annual rainfall for Cairo.\n",
    "h) The total rainfall for each season.\n",
    "City Country Season Temperature\n",
    "(C)\n",
    "Rainfall\n",
    "(mm)\n",
    "Mumbai India Winter 24.8 5.9\n",
    "Mumbai India Spring 28.4 16.2\n",
    "Mumbai India Summer 27.9 1549.4\n",
    "Mumbai India Fall 27.6 346.0\n",
    "London United Kingdom Winter 4.2 207.7\n",
    "London United Kingdom Spring 8.3 169.6\n",
    "London United Kingdom Summer 15.7 157.0\n",
    "London United Kingdom Fall 10.4 218.5\n",
    "Cairo Egypt Winter 13.6 16.5\n",
    "Cairo Egypt Spring 20.7 6.5\n",
    "Cairo Egypt Summer 27.7 0.1 \n",
    "Cairo Egypt Fall 22.2 4.5"
   ]
  },
  {
   "cell_type": "code",
   "execution_count": 9,
   "id": "c551b99e-fcce-4f93-ae57-5a6aab1e39f4",
   "metadata": {},
   "outputs": [
    {
     "name": "stdout",
     "output_type": "stream",
     "text": [
      "a) All the temperature data:\n",
      "24.8\n",
      "28.4\n",
      "27.9\n",
      "27.6\n",
      "4.2\n",
      "8.3\n",
      "15.7\n",
      "10.4\n",
      "13.6\n",
      "20.7\n",
      "27.7\n",
      "22.2\n",
      "\n",
      "b) All the cities, but without repetition:\n",
      "Mumbai\n",
      "London\n",
      "Cairo\n",
      "\n",
      "c) All the records for India:\n",
      "('Mumbai', 'India', 'Winter', 24.8, 5.9)\n",
      "('Mumbai', 'India', 'Spring', 28.4, 16.2)\n",
      "('Mumbai', 'India', 'Summer', 27.9, 1549.4)\n",
      "('Mumbai', 'India', 'Fall', 27.6, 346.0)\n",
      "\n",
      "d) All the Fall records:\n",
      "('Mumbai', 'India', 'Fall', 27.6, 346.0)\n",
      "('London', 'United Kingdom', 'Fall', 10.4, 218.5)\n",
      "('Cairo', 'Egypt', 'Fall', 22.2, 4.5)\n",
      "\n",
      "e) City, country, and season for which average rainfall is between 200 and 400 mm:\n",
      "('London', 'United Kingdom', 'Fall')\n",
      "('London', 'United Kingdom', 'Winter')\n",
      "('Mumbai', 'India', 'Fall')\n",
      "\n",
      "f) City and country for which average Fall temperature is above 20 degrees, in increasing temperature order:\n",
      "('Cairo', 'Egypt')\n",
      "('Mumbai', 'India')\n",
      "\n",
      "g) Total annual rainfall for Cairo:\n",
      "27.6\n",
      "\n",
      "h) Total rainfall for each season:\n",
      "('Fall', 569.0)\n",
      "('Spring', 192.29999999999998)\n",
      "('Summer', 1706.5)\n",
      "('Winter', 230.1)\n"
     ]
    }
   ],
   "source": [
    "import sqlite3\n",
    "\n",
    "# Create a connection to an in-memory SQLite database\n",
    "conn = sqlite3.connect(':memory:')\n",
    "cursor = conn.cursor()\n",
    "\n",
    "# Create the Weather table\n",
    "cursor.execute('''\n",
    "CREATE TABLE Weather (\n",
    "    City TEXT,\n",
    "    Country TEXT,\n",
    "    Season TEXT,\n",
    "    Temperature REAL,\n",
    "    Rainfall REAL\n",
    ")\n",
    "''')\n",
    "\n",
    "# Insert the data into the Weather table\n",
    "data = [\n",
    "    ('Mumbai', 'India', 'Winter', 24.8, 5.9),\n",
    "    ('Mumbai', 'India', 'Spring', 28.4, 16.2),\n",
    "    ('Mumbai', 'India', 'Summer', 27.9, 1549.4),\n",
    "    ('Mumbai', 'India', 'Fall', 27.6, 346.0),\n",
    "    ('London', 'United Kingdom', 'Winter', 4.2, 207.7),\n",
    "    ('London', 'United Kingdom', 'Spring', 8.3, 169.6),\n",
    "    ('London', 'United Kingdom', 'Summer', 15.7, 157.0),\n",
    "    ('London', 'United Kingdom', 'Fall', 10.4, 218.5),\n",
    "    ('Cairo', 'Egypt', 'Winter', 13.6, 16.5),\n",
    "    ('Cairo', 'Egypt', 'Spring', 20.7, 6.5),\n",
    "    ('Cairo', 'Egypt', 'Summer', 27.7, 0.1),\n",
    "    ('Cairo', 'Egypt', 'Fall', 22.2, 4.5),\n",
    "]\n",
    "\n",
    "cursor.executemany('''\n",
    "INSERT INTO Weather (City, Country, Season, Temperature, Rainfall)\n",
    "VALUES (?, ?, ?, ?, ?)\n",
    "''', data)\n",
    "\n",
    "# Commit the changes\n",
    "conn.commit()\n",
    "\n",
    "# a) All the temperature data\n",
    "print(\"a) All the temperature data:\")\n",
    "cursor.execute(\"SELECT Temperature FROM Weather\")\n",
    "for row in cursor.fetchall():\n",
    "    print(row[0])\n",
    "\n",
    "# b) All the cities, but without repetition\n",
    "print(\"\\nb) All the cities, but without repetition:\")\n",
    "cursor.execute(\"SELECT DISTINCT City FROM Weather\")\n",
    "for row in cursor.fetchall():\n",
    "    print(row[0])\n",
    "\n",
    "# c) All the records for India\n",
    "print(\"\\nc) All the records for India:\")\n",
    "cursor.execute(\"SELECT * FROM Weather WHERE Country = 'India'\")\n",
    "for row in cursor.fetchall():\n",
    "    print(row)\n",
    "\n",
    "# d) All the Fall records\n",
    "print(\"\\nd) All the Fall records:\")\n",
    "cursor.execute(\"SELECT * FROM Weather WHERE Season = 'Fall'\")\n",
    "for row in cursor.fetchall():\n",
    "    print(row)\n",
    "\n",
    "# e) The city, country, and season for which the average rainfall is between 200 and 400 millimeters\n",
    "print(\"\\ne) City, country, and season for which average rainfall is between 200 and 400 mm:\")\n",
    "cursor.execute('''\n",
    "SELECT City, Country, Season\n",
    "FROM Weather\n",
    "GROUP BY City, Country, Season\n",
    "HAVING AVG(Rainfall) BETWEEN 200 AND 400\n",
    "''')\n",
    "for row in cursor.fetchall():\n",
    "    print(row)\n",
    "\n",
    "# f) The city and country for which the average Fall temperature is above 20 degrees, in increasing temperature order\n",
    "print(\"\\nf) City and country for which average Fall temperature is above 20 degrees, in increasing temperature order:\")\n",
    "cursor.execute('''\n",
    "SELECT City, Country\n",
    "FROM Weather\n",
    "WHERE Season = 'Fall' AND Temperature > 20\n",
    "ORDER BY Temperature ASC\n",
    "''')\n",
    "for row in cursor.fetchall():\n",
    "    print(row)\n",
    "\n",
    "# g) The total annual rainfall for Cairo\n",
    "print(\"\\ng) Total annual rainfall for Cairo:\")\n",
    "cursor.execute(\"SELECT SUM(Rainfall) FROM Weather WHERE City = 'Cairo'\")\n",
    "print(cursor.fetchone()[0])\n",
    "\n",
    "# h) The total rainfall for each season\n",
    "print(\"\\nh) Total rainfall for each season:\")\n",
    "cursor.execute('''\n",
    "SELECT Season, SUM(Rainfall) AS Total_Rainfall\n",
    "FROM Weather\n",
    "GROUP BY Season\n",
    "''')\n",
    "for row in cursor.fetchall():\n",
    "    print(row)\n",
    "\n",
    "# Close the connection\n",
    "conn.close()\n"
   ]
  },
  {
   "cell_type": "markdown",
   "id": "f6ec778b-8484-4b05-bb41-726f74497ecb",
   "metadata": {},
   "source": [
    "Question 9\n"
   ]
  },
  {
   "cell_type": "markdown",
   "id": "30792b8e-afcb-44d4-a3cf-8cc6f64f034a",
   "metadata": {},
   "source": [
    ". Suppose list words is defined as follows:\n",
    ">>> words = ['The', 'quick', 'brown', 'fox', 'jumps', 'over',\n",
    "'the', 'lazy', 'dog']\n",
    "Write list comprehension expressions that use list words and generate the following\n",
    "lists:\n",
    "a) ['THE', 'QUICK', 'BROWN', 'FOX', 'JUMPS', 'OVER', 'THE',\n",
    "'LAZY', 'DOG']\n",
    "b) ['the', 'quick', 'brown', 'fox', 'jumps', 'over', 'the',\n",
    "'lazy', 'dog']\n",
    "c) [3, 5, 5, 3, 5, 4, 3, 4, 3] (the list of lengths of words in list\n",
    "words).\n",
    "d) [['THE', 'the', 3], ['QUICK', 'quick', 5], ['BROWN',\n",
    "'brown', 5], ['FOX', 'fox', 3], ['JUMPS', 'jumps', 5],\n",
    "['OVER', 'over', 4], ['THE', 'the', 3], ['LAZY', 'lazy',\n",
    "4], ['DOG', 'dog', 3]] (the list containing a list for every word of list\n",
    "words, where each list contains the word in uppercase and lowercase and the\n",
    "length of the word.)\n",
    "e) ['The', 'quick', 'brown', 'fox', 'jumps', 'over', 'the',\n",
    "'lazy', 'dog'] (the list of words in list words containing 4 or more\n",
    "characters.)"
   ]
  },
  {
   "cell_type": "code",
   "execution_count": 13,
   "id": "6c7b5a4b-9372-444f-b650-47c6ff24e2e2",
   "metadata": {},
   "outputs": [
    {
     "name": "stdout",
     "output_type": "stream",
     "text": [
      "a) ['THE', 'QUICK', 'BROWN', 'FOX', 'JUMPS', 'OVER', 'THE', 'LAZY', 'DOG']\n",
      "b) ['the', 'quick', 'brown', 'fox', 'jumps', 'over', 'the', 'lazy', 'dog']\n",
      "c) [3, 5, 5, 3, 5, 4, 3, 4, 3]\n",
      "d) [['THE', 'the', 3], ['QUICK', 'quick', 5], ['BROWN', 'brown', 5], ['FOX', 'fox', 3], ['JUMPS', 'jumps', 5], ['OVER', 'over', 4], ['THE', 'the', 3], ['LAZY', 'lazy', 4], ['DOG', 'dog', 3]]\n",
      "e) ['quick', 'brown', 'jumps', 'over', 'lazy']\n"
     ]
    }
   ],
   "source": [
    "# Define the original list of words\n",
    "words = ['The', 'quick', 'brown', 'fox', 'jumps', 'over', 'the', 'lazy', 'dog']\n",
    "\n",
    "# a) Convert all words to uppercase\n",
    "upper_words = [word.upper() for word in words]\n",
    "print(\"a)\", upper_words)\n",
    "\n",
    "# b) Convert all words to lowercase\n",
    "lower_words = [word.lower() for word in words]\n",
    "print(\"b)\", lower_words)\n",
    "\n",
    "# c) Create a list of lengths of each word\n",
    "lengths = [len(word) for word in words]\n",
    "print(\"c)\", lengths)\n",
    "\n",
    "# d) Create a list of lists containing uppercase, lowercase, and length of each word\n",
    "word_info = [[word.upper(), word.lower(), len(word)] for word in words]\n",
    "print(\"d)\", word_info)\n",
    "\n",
    "# e) Filter words containing 4 or more characters\n",
    "long_words = [word for word in words if len(word) >= 4]\n",
    "print(\"e)\", long_words)\n"
   ]
  }
 ],
 "metadata": {
  "kernelspec": {
   "display_name": "Python 3 (ipykernel)",
   "language": "python",
   "name": "python3"
  },
  "language_info": {
   "codemirror_mode": {
    "name": "ipython",
    "version": 3
   },
   "file_extension": ".py",
   "mimetype": "text/x-python",
   "name": "python",
   "nbconvert_exporter": "python",
   "pygments_lexer": "ipython3",
   "version": "3.12.4"
  }
 },
 "nbformat": 4,
 "nbformat_minor": 5
}
